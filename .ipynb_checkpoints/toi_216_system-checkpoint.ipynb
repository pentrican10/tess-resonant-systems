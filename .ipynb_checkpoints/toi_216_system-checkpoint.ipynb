{
 "cells": [
  {
   "cell_type": "markdown",
   "id": "f1ebdbbb-7309-4246-9388-5932f0443e43",
   "metadata": {},
   "source": [
    "# Initial Imports and Constants"
   ]
  },
  {
   "cell_type": "code",
   "execution_count": null,
   "id": "cc51d29f-d3b3-40e0-a351-e44b46e8d838",
   "metadata": {},
   "outputs": [],
   "source": [
    "import numpy as np\n",
    "import matplotlib.pyplot as plt\n",
    "import lightkurve as lk\n",
    "from lightkurve import search_targetpixelfile\n",
    "import pandas as pd\n",
    "import os\n",
    "import batman\n",
    "from scipy.stats import norm\n",
    "import matplotlib\n",
    "import os"
   ]
  },
  {
   "cell_type": "code",
   "execution_count": null,
   "id": "627a4c51-3929-475a-827f-e27c60829877",
   "metadata": {},
   "outputs": [],
   "source": [
    "### Define data directory\n",
    "working_dir = os.getcwd()\n",
    "data_dir = os.path.join(working_dir, \"data\")\n",
    "print(f\"Data directory: {data_dir}\")"
   ]
  },
  {
   "cell_type": "code",
   "execution_count": null,
   "id": "6b661bc2-669f-4d1f-9a3f-37a7c33ad4ea",
   "metadata": {},
   "outputs": [],
   "source": [
    "### switch to mask out transits\n",
    "mask_transits = True\n",
    "### set range for search: [#hours] * [days per hour]\n",
    "ttv_hour = 24*2* 0.0416667 # 1 hour to days"
   ]
  },
  {
   "cell_type": "code",
   "execution_count": null,
   "id": "d70883d1-26e4-4346-a95d-5681ba0b309a",
   "metadata": {},
   "outputs": [],
   "source": [
    "### function to convert times from TESS to Petigura offset\n",
    "TESS_offset = 2457000\n",
    "petigura_offset = 2454833\n",
    "def convert_time_t2p(times):\n",
    "    ### TESS offset \n",
    "    BTJD = times + TESS_offset\n",
    "    new_time = BTJD - petigura_offset\n",
    "    return new_time"
   ]
  },
  {
   "cell_type": "markdown",
   "id": "138dbfaa-cf55-42b0-9473-564fe41aed28",
   "metadata": {},
   "source": [
    "# Get data"
   ]
  },
  {
   "cell_type": "code",
   "execution_count": null,
   "id": "b474f6b9-e01e-4552-bee9-d0f00aba068a",
   "metadata": {},
   "outputs": [],
   "source": [
    "TOI_id = 'TOI 216'\n",
    "search_result = lk.search_lightcurve(TOI_id, author='SPOC')\n",
    "print(search_result)\n",
    "# lc_collection = search_result.download_all()\n",
    "# lc = lc_collection\n",
    "# lc[0].download()\n",
    "# lc[1].download()\n",
    "# lc[2].download()\n",
    "# lc[3].download()\n",
    "\n",
    "\n",
    "# lc_collection = lc[0].download()\n",
    "# lc_collection.append(lc[1].download())\n",
    "# lc_collection.append(lc[3].download())"
   ]
  },
  {
   "cell_type": "code",
   "execution_count": null,
   "id": "3340112e-584a-46f7-8c70-42dc9cbf1d4c",
   "metadata": {},
   "outputs": [],
   "source": [
    "lc_collection = search_result.download_all()\n",
    "# lc_collection.plot()\n",
    "# plt.show()\n",
    "print(lc_collection)"
   ]
  },
  {
   "cell_type": "code",
   "execution_count": null,
   "id": "0c331f06-8b0e-4cca-9d9d-3395f3ba7442",
   "metadata": {},
   "outputs": [],
   "source": [
    "clean_lcs = [lc[lc.quality == 0] for lc in lc_collection]\n"
   ]
  },
  {
   "cell_type": "code",
   "execution_count": null,
   "id": "8ba42e05-87a8-4ee1-a4ba-7ff567be51a8",
   "metadata": {},
   "outputs": [],
   "source": [
    "# Normalize, flatten, and remove outliers\n",
    "processed_lcs = [\n",
    "    lc.normalize().flatten(window_length=401).remove_outliers(sigma=5)\n",
    "    for lc in clean_lcs\n",
    "]"
   ]
  },
  {
   "cell_type": "code",
   "execution_count": null,
   "id": "667373a9-0ac8-4492-ba89-626a3ad5e7d4",
   "metadata": {},
   "outputs": [],
   "source": [
    "# Stitch into one combined light curve\n",
    "combined_lc = processed_lcs[0]\n",
    "for lc in processed_lcs[1:]:\n",
    "    combined_lc = combined_lc.append(lc)\n",
    "\n"
   ]
  },
  {
   "cell_type": "code",
   "execution_count": null,
   "id": "966d725d-3f0e-4819-b5b7-e337cc9b9b96",
   "metadata": {},
   "outputs": [],
   "source": [
    "combined_lc.plot()\n",
    "plt.title(f\"Combined Light Curve for {TOI_id}\")\n",
    "plt.show()"
   ]
  },
  {
   "cell_type": "code",
   "execution_count": null,
   "id": "dc655596-199f-4324-993d-1b3080f59efc",
   "metadata": {},
   "outputs": [],
   "source": [
    "# Extract useful data arrays\n",
    "time = combined_lc.time.value\n",
    "flux = combined_lc.flux.value\n",
    "flux_err = combined_lc.flux_err.value\n",
    "print(time)\n",
    "print(flux)"
   ]
  },
  {
   "cell_type": "code",
   "execution_count": null,
   "id": "18418bde-20fd-4067-889b-8ab1b03d6767",
   "metadata": {},
   "outputs": [],
   "source": [
    "plt.scatter(time, flux, s=1, c='b')\n",
    "plt.title(f'Combined Light Curve for {TOI_id}')\n",
    "plt.xlabel('Time - 2457000 [BTJD days]')\n",
    "plt.ylabel('Normalized Flux')\n",
    "plt.show()"
   ]
  },
  {
   "cell_type": "markdown",
   "id": "b2730311-4537-4c9f-8f15-bdee9dd37a51",
   "metadata": {},
   "source": [
    "# BLS Runs"
   ]
  },
  {
   "cell_type": "markdown",
   "id": "112c3c1e-5874-49dd-8d81-631366cd33da",
   "metadata": {},
   "source": [
    "## BLS 1"
   ]
  },
  {
   "cell_type": "code",
   "execution_count": null,
   "id": "fa802830-989d-423c-8b8e-368de7728701",
   "metadata": {},
   "outputs": [],
   "source": [
    "bls_1 = combined_lc.to_periodogram(method='bls', period=np.linspace(1.0, 40, 10000), frequency_factor=500)\n",
    "bls_1.plot()\n",
    "plt.show()\n"
   ]
  },
  {
   "cell_type": "code",
   "execution_count": null,
   "id": "1f3d18b1-5bbd-486c-b307-886798ad78bc",
   "metadata": {},
   "outputs": [],
   "source": [
    "planet_1_period = bls_1.period_at_max_power\n",
    "planet_1_dur = bls_1.duration_at_max_power\n",
    "planet_1_t0 = bls_1.transit_time_at_max_power\n",
    "\n",
    "print(f\"Best candidate period: {planet_1_period.value:.5f} days\")\n",
    "print(f\"Best candidate t0: {planet_1_t0.value:.5f} days\")"
   ]
  },
  {
   "cell_type": "code",
   "execution_count": null,
   "id": "d04a3f34-a549-4197-8038-4b5005f233a2",
   "metadata": {},
   "outputs": [],
   "source": [
    "import numpy as np\n",
    "from scipy.signal import find_peaks\n",
    "\n",
    "# 1. Access full power array\n",
    "powers = bls_1.power.value\n",
    "periods = bls_1.period.value\n",
    "durations = bls_1.duration.value\n",
    "t0s = bls_1.transit_time.value\n",
    "\n",
    "# 2. Find all peaks in the BLS power spectrum\n",
    "peaks, _ = find_peaks(powers)\n",
    "\n",
    "# 3. Sort peaks by power (descending)\n",
    "sorted_peaks = peaks[np.argsort(powers[peaks])[::-1]]\n",
    "\n",
    "# 4. Get top 3 signal indices\n",
    "top_indices = sorted_peaks[:7]\n",
    "\n",
    "# 5. Extract their periods, durations, and t0s\n",
    "top_periods = periods[top_indices]\n",
    "top_durations = durations[top_indices]\n",
    "top_t0s = t0s[top_indices]\n",
    "top_powers = powers[top_indices]\n",
    "\n",
    "# 6. Print results\n",
    "for i in range(7):\n",
    "    print(f\"Signal {i+1}:\")\n",
    "    print(f\"  Period:   {top_periods[i]:.5f} days\")\n",
    "    print(f\"  T0:       {top_t0s[i]:.5f}\")\n",
    "    print(f\"  Duration: {top_durations[i]:.5f} days\")\n",
    "    print(f\"  Power:    {top_powers[i]:.5f}\")\n",
    "    print(\"-\" * 30)\n"
   ]
  },
  {
   "cell_type": "code",
   "execution_count": null,
   "id": "ab1e0227-f0da-4ac9-9b98-3c4afd0f7f1c",
   "metadata": {},
   "outputs": [],
   "source": [
    "# Create a cadence mask using the BLS parameters\n",
    "planet_1_mask = bls_1.get_transit_mask(period=planet_1_period,\n",
    "                                     transit_time=planet_1_t0,\n",
    "                                     duration=planet_1_dur*1.5)"
   ]
  },
  {
   "cell_type": "code",
   "execution_count": null,
   "id": "a36671d8-d15b-4e21-94f1-36f8fa867c8f",
   "metadata": {},
   "outputs": [],
   "source": [
    "masked_lc_1 = combined_lc[~planet_1_mask]\n",
    "ax = masked_lc_1.scatter();\n",
    "combined_lc[planet_1_mask].scatter(ax=ax, c='r', label='Masked')\n",
    "# plt.xlim(2144, 2145)\n",
    "plt.show()"
   ]
  },
  {
   "cell_type": "code",
   "execution_count": null,
   "id": "ee434832-2e7a-4ab5-a0ee-09caa6e3434d",
   "metadata": {},
   "outputs": [],
   "source": [
    "# Create a BLS model using the BLS parameters\n",
    "planet_1_model = bls_1.get_transit_model(period=planet_1_period,\n",
    "                                       transit_time=planet_1_t0,\n",
    "                                       duration=planet_1_dur)\n"
   ]
  },
  {
   "cell_type": "code",
   "execution_count": null,
   "id": "16f389e5-5e35-47bd-a48c-f328298248c8",
   "metadata": {},
   "outputs": [],
   "source": [
    "ax = combined_lc.fold(planet_1_period, planet_1_t0).scatter()\n",
    "planet_1_model.fold(planet_1_period, planet_1_t0).plot(ax=ax, c='r', lw=2)\n",
    "ax.set_xlim(-1, 1)\n",
    "plt.show()"
   ]
  },
  {
   "cell_type": "markdown",
   "id": "708985c3-f7bb-44c2-bb4b-403daa9b3c36",
   "metadata": {},
   "source": [
    "## BLS 2"
   ]
  },
  {
   "cell_type": "code",
   "execution_count": null,
   "id": "5e316340-7275-4c3a-879b-47542002ef4e",
   "metadata": {},
   "outputs": [],
   "source": [
    "period = np.linspace(1, 20, 10000)\n",
    "bls_2 = masked_lc_1.to_periodogram('bls', period=period, frequency_factor=500)\n",
    "bls_2.plot()\n",
    "plt.show()"
   ]
  },
  {
   "cell_type": "code",
   "execution_count": null,
   "id": "2eff3fb3-6bd1-4c9b-9dbd-105faa13e4d5",
   "metadata": {},
   "outputs": [],
   "source": [
    "planet_2_period = bls_2.period_at_max_power\n",
    "planet_2_t0 = bls_2.transit_time_at_max_power\n",
    "planet_2_dur = bls_2.duration_at_max_power\n",
    "\n",
    "print(f\"Best candidate period 2: {planet_2_period.value:.5f} days\")\n",
    "print(f\"Best candidate t0 2: {planet_2_t0.value:.5f} days\")"
   ]
  },
  {
   "cell_type": "code",
   "execution_count": null,
   "id": "b896bbb2-021e-4f0f-82e7-450d155c5a04",
   "metadata": {},
   "outputs": [],
   "source": [
    "# ax = masked_lc_1.fold(planet_2_period, planet_2_t0).scatter()\n",
    "# masked_lc_1.fold(planet_2_period, planet_2_t0).bin(.1).plot(ax=ax, c='r', lw=2,\n",
    "#                                                           label='Binned Flux')\n",
    "# ax.set_xlim(-5, 5)\n",
    "# plt.show()"
   ]
  },
  {
   "cell_type": "code",
   "execution_count": null,
   "id": "606e1c3b-edfc-47d6-a88e-e5830115c033",
   "metadata": {},
   "outputs": [],
   "source": [
    "planet_2_mask = bls_2.get_transit_mask(period=planet_2_period,\n",
    "                                     transit_time=planet_2_t0,\n",
    "                                     duration=planet_2_dur*1.5)"
   ]
  },
  {
   "cell_type": "code",
   "execution_count": null,
   "id": "6bef44e4-7525-47a1-a9e2-e6d15dd0ae77",
   "metadata": {},
   "outputs": [],
   "source": [
    "masked_lc_2 = masked_lc_1[~planet_2_mask]\n",
    "ax = masked_lc_2.scatter();\n",
    "masked_lc_1[planet_2_mask].scatter(ax=ax, c='r', label='Masked')\n",
    "# plt.xlim(2144, 2145)\n",
    "plt.show()"
   ]
  },
  {
   "cell_type": "code",
   "execution_count": null,
   "id": "94bcf006-9339-4cb6-9536-06a81ad92241",
   "metadata": {},
   "outputs": [],
   "source": [
    "planet_2_model = bls_2.get_transit_model(period=planet_2_period,\n",
    "                                       transit_time=planet_2_t0,\n",
    "                                       duration=planet_2_dur)"
   ]
  },
  {
   "cell_type": "code",
   "execution_count": null,
   "id": "a9707a5d-7593-41ad-a32a-c19f7fa31bf7",
   "metadata": {},
   "outputs": [],
   "source": [
    "ax = combined_lc.fold(planet_2_period, planet_2_t0).scatter()\n",
    "planet_2_model.fold(planet_2_period, planet_2_t0).plot(ax=ax, c='r', lw=2)\n",
    "ax.set_xlim(-1, 1)\n",
    "plt.show()"
   ]
  },
  {
   "cell_type": "code",
   "execution_count": null,
   "id": "2403a4c7-afa5-4bc7-a0c7-4b864cd9b62e",
   "metadata": {},
   "outputs": [],
   "source": [
    "### start period search at 4days to try to find planet e before d\n",
    "period = np.linspace(4, 15, 10000)\n",
    "bls_3 = masked_lc_2.to_periodogram('bls', period=period, frequency_factor=500)\n",
    "bls_3.plot()\n",
    "plt.show()"
   ]
  },
  {
   "cell_type": "code",
   "execution_count": null,
   "id": "1596da48-3bb0-4bce-a404-47dc62e01b10",
   "metadata": {},
   "outputs": [],
   "source": [
    "planet_3_period = bls_3.period_at_max_power\n",
    "planet_3_t0 = bls_3.transit_time_at_max_power\n",
    "planet_3_dur = bls_3.duration_at_max_power\n",
    "\n",
    "print(f\"Best candidate period 3: {planet_3_period.value:.5f} days\")\n",
    "print(f\"Best candidate t0 3: {planet_3_t0.value:.5f} days\")"
   ]
  },
  {
   "cell_type": "code",
   "execution_count": null,
   "id": "a0737f13-4697-4312-a73e-873802ad7f4d",
   "metadata": {},
   "outputs": [],
   "source": [
    "planet_3_mask = bls_3.get_transit_mask(period=planet_3_period,\n",
    "                                     transit_time=planet_3_t0,\n",
    "                                     duration=planet_3_dur*1.5)\n"
   ]
  },
  {
   "cell_type": "code",
   "execution_count": null,
   "id": "124e09c0-99a3-4796-920c-9cd96b0d34bf",
   "metadata": {},
   "outputs": [],
   "source": [
    "masked_lc_3 = masked_lc_2[~planet_3_mask]\n",
    "ax = masked_lc_3.scatter();\n",
    "masked_lc_2[planet_3_mask].scatter(ax=ax, c='r', label='Masked')\n",
    "# plt.xlim(2144, 2145)\n",
    "plt.show()"
   ]
  },
  {
   "cell_type": "code",
   "execution_count": null,
   "id": "ed943965-134e-4703-9bcf-c52409dd3874",
   "metadata": {},
   "outputs": [],
   "source": [
    "planet_3_model = bls_3.get_transit_model(period=planet_3_period,\n",
    "                                       transit_time=planet_3_t0,\n",
    "                                       duration=planet_3_dur)"
   ]
  },
  {
   "cell_type": "code",
   "execution_count": null,
   "id": "306ccc3b-c73e-4b84-8d37-c0b6c9a24765",
   "metadata": {},
   "outputs": [],
   "source": [
    "period = np.linspace(1, 15, 10000)\n",
    "bls_4 = masked_lc_3.to_periodogram('bls', period=period, frequency_factor=500)\n",
    "bls_4.plot()\n",
    "plt.show()"
   ]
  },
  {
   "cell_type": "code",
   "execution_count": null,
   "id": "6946a19e-6124-439b-86df-06ba2b01007a",
   "metadata": {},
   "outputs": [],
   "source": [
    "planet_4_period = bls_4.period_at_max_power\n",
    "planet_4_t0 = bls_4.transit_time_at_max_power\n",
    "planet_4_dur = bls_4.duration_at_max_power\n",
    "\n",
    "print(f\"Best candidate period 4: {planet_4_period.value:.5f} days\")\n",
    "print(f\"Best candidate t0 4: {planet_4_t0.value:.5f} days\")"
   ]
  },
  {
   "cell_type": "code",
   "execution_count": null,
   "id": "ca2b05d3-07c5-4bbf-8d5e-e83d32019ebe",
   "metadata": {},
   "outputs": [],
   "source": [
    "planet_4_mask = bls_4.get_transit_mask(period=planet_4_period,\n",
    "                                     transit_time=planet_4_t0,\n",
    "                                     duration=planet_4_dur*1.5)\n"
   ]
  },
  {
   "cell_type": "code",
   "execution_count": null,
   "id": "86cda142-fb1a-40b7-8058-330a082852be",
   "metadata": {},
   "outputs": [],
   "source": [
    "masked_lc_4 = masked_lc_3[~planet_4_mask]\n",
    "ax = masked_lc_4.scatter();\n",
    "masked_lc_3[planet_4_mask].scatter(ax=ax, c='r', label='Masked')\n",
    "# plt.xlim(2144, 2145)\n",
    "plt.show()"
   ]
  },
  {
   "cell_type": "code",
   "execution_count": null,
   "id": "b310d008-0e4e-48db-96ed-8876b33f0c06",
   "metadata": {},
   "outputs": [],
   "source": [
    "planet_4_model = bls_4.get_transit_model(period=planet_4_period,\n",
    "                                       transit_time=planet_4_t0,\n",
    "                                       duration=planet_4_dur)"
   ]
  },
  {
   "cell_type": "code",
   "execution_count": null,
   "id": "a3024db5-e871-484c-bb35-1aec3e5ed1b7",
   "metadata": {},
   "outputs": [],
   "source": [
    "period = np.linspace(1, 15, 10000)\n",
    "bls_5 = masked_lc_4.to_periodogram('bls', period=period, frequency_factor=500)\n",
    "bls_5.plot()\n",
    "plt.show()"
   ]
  },
  {
   "cell_type": "code",
   "execution_count": null,
   "id": "62abc03d-e07c-4933-a955-7cd0743b448d",
   "metadata": {},
   "outputs": [],
   "source": [
    "planet_5_period = bls_5.period_at_max_power\n",
    "planet_5_t0 = bls_5.transit_time_at_max_power\n",
    "planet_5_dur = bls_5.duration_at_max_power\n",
    "\n",
    "print(f\"Best candidate period 5: {planet_5_period.value:.5f} days\")\n",
    "print(f\"Best candidate t0 5: {planet_5_t0.value:.5f} days\")"
   ]
  },
  {
   "cell_type": "code",
   "execution_count": null,
   "id": "3f3323d8-6762-4644-8294-6a45f2f09046",
   "metadata": {},
   "outputs": [],
   "source": [
    "planet_5_mask = bls_5.get_transit_mask(period=planet_5_period,\n",
    "                                     transit_time=planet_5_t0,\n",
    "                                     duration=planet_5_dur*1.5)\n"
   ]
  },
  {
   "cell_type": "code",
   "execution_count": null,
   "id": "532cb124-9ca0-4df4-b0d5-6a50c9a46a2a",
   "metadata": {},
   "outputs": [],
   "source": [
    "masked_lc_5 = masked_lc_4[~planet_5_mask]\n",
    "ax = masked_lc_5.scatter();\n",
    "masked_lc_4[planet_5_mask].scatter(ax=ax, c='r', label='Masked')\n",
    "# plt.xlim(2144, 2145)\n",
    "plt.show()"
   ]
  },
  {
   "cell_type": "code",
   "execution_count": null,
   "id": "b9e3c3cc-60ac-49a4-bcc7-2cdd8564b383",
   "metadata": {},
   "outputs": [],
   "source": [
    "planet_5_model = bls_5.get_transit_model(period=planet_5_period,\n",
    "                                       transit_time=planet_5_t0,\n",
    "                                       duration=planet_5_dur)"
   ]
  },
  {
   "cell_type": "code",
   "execution_count": null,
   "id": "71edc5ec-9d14-4e00-b20f-a388ee78d61b",
   "metadata": {},
   "outputs": [],
   "source": [
    "period = np.linspace(1, 15, 10000)\n",
    "bls_6 = masked_lc_5.to_periodogram('bls', period=period, frequency_factor=500)\n",
    "bls_6.plot()\n",
    "plt.show()"
   ]
  },
  {
   "cell_type": "code",
   "execution_count": null,
   "id": "27d9b3fa-a479-48cc-86e5-cb82551e7f8d",
   "metadata": {},
   "outputs": [],
   "source": [
    "planet_6_period = bls_6.period_at_max_power\n",
    "planet_6_t0 = bls_6.transit_time_at_max_power\n",
    "planet_6_dur = bls_6.duration_at_max_power\n",
    "\n",
    "print(f\"Best candidate period 6: {planet_6_period.value:.5f} days\")\n",
    "print(f\"Best candidate t0 6: {planet_6_t0.value:.5f} days\")"
   ]
  },
  {
   "cell_type": "code",
   "execution_count": null,
   "id": "79512ba9-54f4-4919-b2c5-7ea40b71f584",
   "metadata": {},
   "outputs": [],
   "source": [
    "planet_6_mask = bls_6.get_transit_mask(period=planet_6_period,\n",
    "                                     transit_time=planet_6_t0,\n",
    "                                     duration=planet_6_dur*1.5)\n"
   ]
  },
  {
   "cell_type": "code",
   "execution_count": null,
   "id": "40859877-4853-481d-880b-00fe9ff8f5d1",
   "metadata": {},
   "outputs": [],
   "source": [
    "masked_lc_6 = masked_lc_5[~planet_6_mask]\n",
    "ax = masked_lc_6.scatter();\n",
    "masked_lc_5[planet_6_mask].scatter(ax=ax, c='r', label='Masked')\n",
    "# plt.xlim(2144, 2145)\n",
    "plt.show()"
   ]
  },
  {
   "cell_type": "code",
   "execution_count": null,
   "id": "4a800d69-9ad2-41cd-9238-dd2f0068aa6f",
   "metadata": {},
   "outputs": [],
   "source": [
    "planet_6_model = bls_6.get_transit_model(period=planet_6_period,\n",
    "                                       transit_time=planet_6_t0,\n",
    "                                       duration=planet_6_dur)"
   ]
  },
  {
   "cell_type": "markdown",
   "id": "ecbb0f16-77ef-43ed-b7ff-a69eef2af6c3",
   "metadata": {},
   "source": [
    "## Transit models"
   ]
  },
  {
   "cell_type": "code",
   "execution_count": null,
   "id": "fcd55a28-35d6-4cf2-b6be-b53f5d694c24",
   "metadata": {},
   "outputs": [],
   "source": [
    "ax = combined_lc.scatter();\n",
    "planet_1_model.plot(ax=ax, c='dodgerblue', label='Planet 1 Transit Model');\n",
    "planet_2_model.plot(ax=ax, c='r', label='Planet 2 Transit Model');\n",
    "# planet_3_model.plot(ax=ax, c='g', label='Planet 3 Transit Model');\n",
    "# planet_4_model.plot(ax=ax, c='purple', label='Planet 4 Transit Model');\n",
    "# planet_5_model.plot(ax=ax, c='orange', label='Planet 5? Transit Model');\n",
    "# planet_6_model.plot(ax=ax, c='pink', label='Planet 6 Transit Model');\n",
    "\n",
    "# plt.xlim(1340,1345)\n",
    "# plt.ylim(0.998,1.002)\n",
    "plt.show()"
   ]
  },
  {
   "cell_type": "code",
   "execution_count": null,
   "id": "4aa46e80-c567-47eb-89a4-96d35a653094",
   "metadata": {},
   "outputs": [],
   "source": []
  },
  {
   "cell_type": "markdown",
   "id": "681aae94-878e-4b78-bf00-af61c073929e",
   "metadata": {},
   "source": [
    "## Finding transit guess times based on models "
   ]
  },
  {
   "cell_type": "code",
   "execution_count": null,
   "id": "908b6d19-110b-47d6-b136-e0b07af20065",
   "metadata": {},
   "outputs": [],
   "source": [
    "from scipy.signal import find_peaks\n",
    "\n",
    "# Find all local minima (i.e., transit dips)\n",
    "peaks_1, _ = find_peaks(-planet_1_model.flux.value, prominence=1e-5)\n",
    "transit_times_1 = planet_1_model.time.value[peaks_1]\n",
    "fluxes_1 = planet_1_model.flux.value[peaks_1]\n",
    "\n",
    "print(\"Planet 1 transit dip times and depths:\")\n",
    "# for t, f in zip(transit_times_1, fluxes_1):\n",
    "#     print(f\"Time: {t:.5f}, Flux: {f:.6f}\")\n",
    "print(transit_times_1)"
   ]
  },
  {
   "cell_type": "code",
   "execution_count": null,
   "id": "157dff37-cca2-43cb-bf8e-0d514d5a8eaa",
   "metadata": {},
   "outputs": [],
   "source": [
    "# Find all local minima (i.e., transit dips)\n",
    "peaks_2, _ = find_peaks(-planet_2_model.flux.value, prominence=1e-5)\n",
    "transit_times_2 = planet_2_model.time.value[peaks_2]\n",
    "fluxes_2 = planet_2_model.flux.value[peaks_2]\n",
    "\n",
    "print(\"Planet 2 transit dip times and depths:\")\n",
    "# for t, f in zip(transit_times_2, fluxes_2):\n",
    "#     print(f\"Time: {t:.5f}, Flux: {f:.6f}\")\n",
    "print(transit_times_2)"
   ]
  },
  {
   "cell_type": "code",
   "execution_count": null,
   "id": "658eda1f-ae56-4dec-9d8d-c50a00f8720f",
   "metadata": {},
   "outputs": [],
   "source": [
    "plt.plot(planet_1_model.time.value, planet_1_model.flux.value, label='planet 1')\n",
    "plt.plot(planet_2_model.time.value, planet_2_model.flux.value, label='planet 2')\n",
    "\n",
    "# plt.xlim(1335,1345)\n",
    "# plt.xlim(1330,1350)\n",
    "# plt.xlim(2100,2200)\n",
    "# plt.xlim(1377,1380)\n",
    "plt.title('bls transit models for planets')\n",
    "plt.xlabel('time')\n",
    "plt.ylabel('flux')\n",
    "plt.legend()\n",
    "plt.show()"
   ]
  },
  {
   "cell_type": "markdown",
   "id": "1c4ad4e1-22f7-431e-9033-fb613de2bc32",
   "metadata": {},
   "source": [
    "# Fit Transit Times"
   ]
  },
  {
   "cell_type": "code",
   "execution_count": null,
   "id": "9b8155c3-377a-4f54-aa04-ec6c3ec4c26b",
   "metadata": {},
   "outputs": [],
   "source": [
    "from scipy.optimize import minimize\n",
    "from scipy.optimize import root_scalar\n",
    "from scipy.optimize import least_squares\n",
    "from scipy.optimize import curve_fit"
   ]
  },
  {
   "cell_type": "markdown",
   "id": "97fe2c6c-3d4b-4c5f-82d2-3472fb5025ac",
   "metadata": {},
   "source": [
    "## Definitions"
   ]
  },
  {
   "cell_type": "code",
   "execution_count": null,
   "id": "0fc094ef-0e78-45c0-8c83-5357d4e5ada5",
   "metadata": {},
   "outputs": [],
   "source": [
    "def omc(obs_time, t_num, p, tc):\n",
    "    calc_time = tc + (t_num* p)\n",
    "    omc = obs_time - calc_time\n",
    "    return omc#*24 #days to hours\n",
    "\n",
    "### Find the intersection points\n",
    "def intersection_func(t,tc1,chi_sq, err_threshold): \n",
    "    return np.interp(t, tc1, chi_sq) - err_threshold"
   ]
  },
  {
   "cell_type": "code",
   "execution_count": null,
   "id": "13c6d998-9ba4-4997-8a29-f2e622ea90c5",
   "metadata": {},
   "outputs": [],
   "source": [
    "\n",
    "def plot_chi_sq(time, flux, flux_err, tc, tc_guess, per, rp, b, T14, u1, u2):\n",
    "    '''\n",
    "    args:\n",
    "        time: array of times from lightcurve\n",
    "        flux: array of fluxes from lightcurve\n",
    "        flux_err: array of flux errors from lightcurve\n",
    "        tc: range of values around the guess time\n",
    "        tc_guess: guess transit time\n",
    "        per: period of planet\n",
    "        rp: radius ratio (planet/star)\n",
    "        b: impact parameter\n",
    "        T14: transit duration\n",
    "        u1, u2: limb darkening coefficients \n",
    "    '''\n",
    "    ### plot X^2 vs tc for each guess\n",
    "    for j in range(len(tc)):\n",
    "        tc1 = tc[j]\n",
    "        chi_sq = np.zeros(len(tc1))\n",
    "        chi_sq_lc = np.zeros(len(tc1))\n",
    "        for i in range(len(tc1)):\n",
    "            t0_1 = \ttc1[i]\n",
    "            theta_initial = [t0_1, per, rp, b, T14, u1, u2]\n",
    "            \n",
    "            ### initialize params\n",
    "            params = batman.TransitParams()\n",
    "            # params.t0, params.per, params.rp,params.b, params.T14, q1, q2 = theta_initial\n",
    "            # params.u = [2*np.sqrt(q1)*q2, np.sqrt(q1)*(1-2*q2)]  # Limb darkening coefficients\n",
    "            params.t0, params.per, params.rp,params.b, params.T14, u1, u2 = theta_initial\n",
    "            params.u = [u1, u2] \n",
    "            params.limb_dark = 'quadratic'\n",
    "            \n",
    "            ### mask data - extract relevant photometry\n",
    "            start = tc_guess[j] - ttv_hour\n",
    "            end = tc_guess[j] + ttv_hour\n",
    "            mask = (time > (start)) & (time < (end))\n",
    "            \n",
    "            transit_model = batman.TransitModel(params, time[mask])\n",
    "                \n",
    "            # Generate model light curve\n",
    "            model_flux = transit_model.light_curve(params)\n",
    "            \n",
    "            # Calculate chi-squared value\n",
    "            sigma2 = flux_err[mask] \n",
    "            chi_squared = np.sum(((flux[mask] - model_flux) / sigma2)**2)\n",
    "            chi_sq[i] = (chi_squared)\n",
    "    \n",
    "        ### masked\n",
    "        min_chi_time = tc1[np.argmin(chi_sq)]\n",
    "        min_chi = chi_sq.min()\n",
    "    \n",
    "        tc_chi[j] = min_chi_time\n",
    "        # idx = transit_num[j]\n",
    "        ttv[j] = min_chi_time - tc_guess[j]\n",
    "    \n",
    "        chi_mask = (chi_sq <= min_chi + 3)\n",
    "        fit_mask = (chi_sq <= min_chi + 1)\n",
    "    \n",
    "        ### fit parabola to the chisq\n",
    "        p_chi_sq = np.polyfit(tc1[fit_mask], chi_sq[fit_mask], 2)  \n",
    "    \n",
    "        ### Extract the coefficients   y = ax^2 + bx + c\n",
    "        a_chi_sq, b_chi_sq, c_chi_sq = p_chi_sq\n",
    "        \n",
    "        ### Find the minimum of the parabola xmin = -b/2a from taking derivative=0\n",
    "        tc_best_fit = -b_chi_sq / (2 * a_chi_sq)\n",
    "        \n",
    "        ### Calculate the minimum chi-squared value\n",
    "        chi_sq_min = a_chi_sq * tc_best_fit**2 + b_chi_sq * tc_best_fit + c_chi_sq\n",
    "        tc_chi_parabola[j] = tc_best_fit\n",
    "    \n",
    "        ### Calculate the parabola best fit \n",
    "        p_1 = a_chi_sq*tc1**2 + b_chi_sq*tc1 + c_chi_sq\n",
    "    \n",
    "        ### calculate ttv from parabola fit \n",
    "        ttv_p[j] = tc_best_fit - tc_guess[j]\n",
    "    \n",
    "        ### delta chisq = 1 gives errors\n",
    "        err_threshold = min_chi + 1 # using chisq discrete minimum\n",
    "        err_threshold_p = chi_sq_min + 1 # using minimum of parabola\n",
    "      \n",
    "        # # Find the intersection using root_scalar\n",
    "        # intersections = []\n",
    "        # for k in range(len(tc1) - 1):\n",
    "        #     if (chi_sq[k] - err_threshold) * (chi_sq[k + 1] - err_threshold) < 0:\n",
    "        #         sol = root_scalar(intersection_func, bracket=[tc1[k], tc1[k + 1]], args=(tc1, chi_sq, err_threshold))\n",
    "        #         if sol.converged:\n",
    "        #             intersections.append((sol.root - min_chi_time))\n",
    "        # errors.append(intersections)\n",
    "    \n",
    "        # intersections_p = []\n",
    "        # for k in range(len(tc1) - 1):\n",
    "        #     if (p_1[k] - err_threshold_p) * (p_1[k + 1] - err_threshold_p) < 0:\n",
    "        #         sol = root_scalar(intersection_func, bracket=[tc1[k], tc1[k + 1]], args=(tc1, chi_sq, err_threshold))\n",
    "        #         if sol.converged:\n",
    "        #             intersections_p.append((sol.root - tc_best_fit))\n",
    "        # errors_p.append(intersections_p)\n",
    "    \n",
    "        # plt.plot(tc1[chi_mask], chi_sq[chi_mask],label='chisq')\n",
    "        # plt.plot(tc1[chi_mask], p_1[chi_mask],label='chisq parabola', color='orange')\n",
    "        # plt.axvline(x=tc_guess[j], color='r', linestyle='--', label='Bls Guess')\n",
    "        # plt.axvline(x=min_chi_time, linestyle='--', label='Chisq min')\n",
    "        # plt.axvline(x=tc1[np.argmin(p_1)], color='orange', linestyle='--', label='Chisq min parabola')\n",
    "    \n",
    "        # # for inter in intersections:\n",
    "        # #     plt.axvline(x=inter, color='blue', linestyle='--')\n",
    "        # plt.axhline(y=err_threshold, color='green', linestyle='--', label='Error Threshold')\n",
    "        # plt.title(f'Transit {j+1}: Planet b')\n",
    "        # plt.xlabel('tc')\n",
    "        # plt.ylabel('X^2')\n",
    "        # plt.legend()\n",
    "        # plt.show()\n",
    "    return tc_chi, ttv"
   ]
  },
  {
   "cell_type": "code",
   "execution_count": null,
   "id": "e5e2c737-1111-4cec-b570-bdef25500b10",
   "metadata": {},
   "outputs": [],
   "source": [
    "import numpy as np\n",
    "import matplotlib.pyplot as plt\n",
    "import matplotlib.gridspec as gridspec\n",
    "from matplotlib.ticker import FuncFormatter\n",
    "import batman\n",
    "\n",
    "def plot_transits(transit_times, per, rp, b, T14, u1, u2):\n",
    "    cols = 3\n",
    "    rows = int(np.ceil(len(transit_times) / cols))\n",
    "    \n",
    "    fig = plt.figure(figsize=(14, rows * 2.8))\n",
    "    outer = gridspec.GridSpec(rows, cols, figure=fig, wspace=0.3, hspace=0.5)\n",
    "    \n",
    "    for i, t0 in enumerate(transit_times):\n",
    "        row = i // cols\n",
    "        col = i % cols\n",
    "        inner = gridspec.GridSpecFromSubplotSpec(2, 1, subplot_spec=outer[row, col],\n",
    "                                                 height_ratios=[3, 1], hspace=0.0)  # Panels touch\n",
    "    \n",
    "        t_min = t0 - buffer\n",
    "        t_max = t0 + buffer\n",
    "        mask = (time >= t_min) & (time <= t_max)\n",
    "        time_rel = time[mask] - t0  # Time relative to Tc\n",
    "    \n",
    "        # Transit model setup\n",
    "        theta_initial = [t0, per, rp, b, T14, u1, u2]\n",
    "        params = batman.TransitParams()\n",
    "        params.t0, params.per, params.rp, params.b, params.T14, u1, u2 = theta_initial\n",
    "        params.u = [u1, u2]\n",
    "        params.limb_dark = 'quadratic'\n",
    "    \n",
    "        m = batman.TransitModel(params, time[mask])\n",
    "        model_flux = m.light_curve(params)\n",
    "        residuals = flux[mask] - model_flux\n",
    "    \n",
    "        # Top panel: model + data\n",
    "        ax1 = fig.add_subplot(inner[0])\n",
    "        ax1.scatter(time_rel, flux[mask], s=5, label='Data')\n",
    "        ax1.plot(time_rel, model_flux, color='red', label='Model')\n",
    "        ax1.axvline(0, color='green', linestyle='--', label='Tc')\n",
    "        ax1.set_xlim(-buffer, buffer)\n",
    "        ax1.set_title(f'Tc = {round(t0, 3)} (BJD-{TESS_offset})')\n",
    "        ax1.grid(True)\n",
    "        ax1.tick_params(labelbottom=False)\n",
    "    \n",
    "        # Bottom panel: residuals\n",
    "        ax2 = fig.add_subplot(inner[1], sharex=ax1)\n",
    "        ax2.scatter(time_rel, residuals, s=5)\n",
    "        ax2.axhline(0, color='red', linestyle='--', linewidth=1)\n",
    "        ax2.set_xlim(-buffer, buffer)\n",
    "        ax2.set_xlabel(\"Time from Tc [days]\")\n",
    "        ax2.grid(True)\n",
    "    \n",
    "        # Y-axis labels for first column only\n",
    "        if col == 0:\n",
    "            ax1.set_ylabel(\"Flux\")\n",
    "            ax2.set_ylabel(\"Residuals\")\n",
    "        else:\n",
    "            ax1.set_ylabel(\"\")\n",
    "            ax1.tick_params(labelleft=False)\n",
    "            ax2.set_ylabel(\"\")\n",
    "            ax2.tick_params(labelleft=False)\n",
    "    \n",
    "        # Custom ticks\n",
    "        ticks = np.round(np.linspace(-buffer, buffer, 4), 2)\n",
    "        ax2.set_xticks(ticks)\n",
    "    \n",
    "    plt.show()\n"
   ]
  },
  {
   "cell_type": "code",
   "execution_count": null,
   "id": "97d1dbab-db8f-4455-bdc7-e2f1eb2926f3",
   "metadata": {},
   "outputs": [],
   "source": [
    "### stellar params\n",
    "q1 = 0.44\n",
    "q2 = 0.24\n",
    "\n",
    "u1 = 2 * np.sqrt(q1) * q2\n",
    "u2 = np.sqrt(q1) * (1 - 2 * q2)\n",
    "print(u1)\n",
    "print(u2)"
   ]
  },
  {
   "cell_type": "markdown",
   "id": "ff4c2a10-cfe2-4a2e-9622-1ca2cb8a8903",
   "metadata": {},
   "source": [
    "## Planet 1"
   ]
  },
  {
   "cell_type": "code",
   "execution_count": null,
   "id": "fcb68abf-7810-4edd-995c-96d4303aec87",
   "metadata": {},
   "outputs": [],
   "source": [
    "### Planet params (from exoplanet archive kipping et al 2019)\n",
    "# planet b\n",
    "per_1= 34.556\n",
    "# per_1 = planet_1_period.value\n",
    "rp_1= 0.1230\n",
    "b_1= 0.15\n",
    "T14_1= 5.514 * 0.0416667  # convert to days from hours\n"
   ]
  },
  {
   "cell_type": "code",
   "execution_count": null,
   "id": "86159898-79c5-42d0-afcc-b04f1526513b",
   "metadata": {},
   "outputs": [],
   "source": [
    "tc_guess_1 = transit_times_1\n",
    "### get tc ranges for fit\n",
    "tc_1 = []\n",
    "for i in range(len(tc_guess_1)):\n",
    "    start = tc_guess_1[i] - ttv_hour\n",
    "    end = tc_guess_1[i] + ttv_hour\n",
    "    t = np.linspace(start,end, 1000)\n",
    "    tc_1.append(t)"
   ]
  },
  {
   "cell_type": "code",
   "execution_count": null,
   "id": "c55b6a38-61ef-4bf1-a3d4-8d705715005b",
   "metadata": {},
   "outputs": [],
   "source": [
    "### initialize arrays\n",
    "tc_chi = np.zeros(len(tc_1))\n",
    "tc_chi_parabola = np.zeros(len(tc_1))\n",
    "ttv = np.zeros(len(tc_1))\n",
    "ttv_p = np.zeros(len(tc_1))\n",
    "errors = []\n",
    "errors_p = []"
   ]
  },
  {
   "cell_type": "code",
   "execution_count": null,
   "id": "0d2e2252-700a-42bc-aab4-f39fcc710260",
   "metadata": {
    "scrolled": true
   },
   "outputs": [],
   "source": [
    "tc_chi_1, ttv_1 = plot_chi_sq(time, flux, flux_err, tc_1, tc_guess_1, per_1, rp_1, b_1, T14_1, u1, u2)"
   ]
  },
  {
   "cell_type": "code",
   "execution_count": null,
   "id": "bcefe093-95c4-480a-b661-8afa7b0e7c98",
   "metadata": {},
   "outputs": [],
   "source": [
    "print(tc_chi_1)"
   ]
  },
  {
   "cell_type": "code",
   "execution_count": null,
   "id": "7bf0d300-649e-4da8-bcc3-6f76993c15de",
   "metadata": {},
   "outputs": [],
   "source": [
    "# Transit windows\n",
    "buffer = 1.5 * T14_1\n",
    "transit_times_1 = tc_chi_1"
   ]
  },
  {
   "cell_type": "code",
   "execution_count": null,
   "id": "2296fd6a-b351-4667-a0a2-ed75d223645a",
   "metadata": {},
   "outputs": [],
   "source": [
    "plot_transits(transit_times_1, per_1, rp_1, b_1, T14_1, u1, u2)"
   ]
  },
  {
   "cell_type": "markdown",
   "id": "5d53965b-5382-4f41-8080-197b600d2801",
   "metadata": {},
   "source": [
    "## Planet 2"
   ]
  },
  {
   "cell_type": "code",
   "execution_count": null,
   "id": "dd0678d9-2ac1-46f2-bb4d-26a9b9df2a70",
   "metadata": {},
   "outputs": [],
   "source": [
    "### Planet params (from kipping et al 2019)\n",
    "# planet b\n",
    "per_2= 17.089\n",
    "# per_2 = planet_2_period.value\n",
    "rp_2= 0.0833\n",
    "b_2= 0.948\n",
    "T14_2= 2.062 * 0.0416667  # convert to days from hours\n"
   ]
  },
  {
   "cell_type": "code",
   "execution_count": null,
   "id": "b58d39b2-1326-46a1-b4e9-191f5c3d83c2",
   "metadata": {},
   "outputs": [],
   "source": [
    "tc_guess_2 = transit_times_2\n",
    "### get tc ranges for fit\n",
    "tc_2 = []\n",
    "for i in range(len(tc_guess_2)):\n",
    "    start = tc_guess_2[i] - ttv_hour\n",
    "    end = tc_guess_2[i] + ttv_hour\n",
    "    t = np.linspace(start,end, 1000)\n",
    "    tc_2.append(t)"
   ]
  },
  {
   "cell_type": "code",
   "execution_count": null,
   "id": "616a75f0-8212-459d-ac80-0b221b4f2201",
   "metadata": {},
   "outputs": [],
   "source": [
    "### initialize arrays\n",
    "tc_chi = np.zeros(len(tc_2))\n",
    "tc_chi_parabola = np.zeros(len(tc_2))\n",
    "ttv = np.zeros(len(tc_2))\n",
    "ttv_p = np.zeros(len(tc_2))\n",
    "errors = []\n",
    "errors_p = []"
   ]
  },
  {
   "cell_type": "code",
   "execution_count": null,
   "id": "4fccbfde-4ca4-42c0-aa92-1974a05b0ba2",
   "metadata": {
    "scrolled": true
   },
   "outputs": [],
   "source": [
    "tc_chi_2, ttv_2 = plot_chi_sq(time, flux, flux_err, tc_2, tc_guess_2, per_2, rp_2, b_2, T14_2, u1, u2)"
   ]
  },
  {
   "cell_type": "code",
   "execution_count": null,
   "id": "7872da08-aa75-4116-83d8-123d5295479f",
   "metadata": {},
   "outputs": [],
   "source": [
    "print(tc_chi_2)"
   ]
  },
  {
   "cell_type": "code",
   "execution_count": null,
   "id": "5fba5135-6f1a-4cd6-80f4-66be545731a5",
   "metadata": {},
   "outputs": [],
   "source": [
    "# Transit windows\n",
    "buffer = 1.5 * T14_2\n",
    "transit_times_2 = tc_chi_2"
   ]
  },
  {
   "cell_type": "code",
   "execution_count": null,
   "id": "381e157f-9399-410e-8fef-0148256620dd",
   "metadata": {},
   "outputs": [],
   "source": [
    "plot_transits(transit_times_2, per_2, rp_2, b_2, T14_2, u1, u2)"
   ]
  },
  {
   "cell_type": "code",
   "execution_count": null,
   "id": "68d4bd46-6de4-4846-90cc-ed8c92a2638c",
   "metadata": {},
   "outputs": [],
   "source": [
    "# TTV\n",
    "plt.scatter(tc_chi_1, ttv_1, label='planet 1')\n",
    "plt.scatter(tc_chi_2, ttv_2, label='planet 2')\n",
    "plt.title('O-C')\n",
    "plt.xlabel('time')\n",
    "plt.ylabel('O-C')\n",
    "plt.legend()\n",
    "plt.show()"
   ]
  },
  {
   "cell_type": "code",
   "execution_count": null,
   "id": "7aadda17-d4ca-4c0b-97c6-4ac8d4ba7293",
   "metadata": {},
   "outputs": [],
   "source": []
  },
  {
   "cell_type": "code",
   "execution_count": null,
   "id": "9187d452-a541-4006-a3cc-a27de8557c37",
   "metadata": {},
   "outputs": [],
   "source": []
  },
  {
   "cell_type": "code",
   "execution_count": null,
   "id": "7189d1de-7f5e-4d83-9a16-1c270f79c079",
   "metadata": {},
   "outputs": [],
   "source": []
  },
  {
   "cell_type": "code",
   "execution_count": null,
   "id": "6bb55091-9294-420d-8642-5014d31f7baa",
   "metadata": {},
   "outputs": [],
   "source": [
    "### Planet params (from barros et al 2022)\n",
    "# planet e\n",
    "per_3= 7.90754\n",
    "rp_3= 0.01065\n",
    "b_3= 0.50\n",
    "T14_3= 2.48 * 0.0416667  # convert to days from hours\n"
   ]
  },
  {
   "cell_type": "code",
   "execution_count": null,
   "id": "57381432-25e3-4977-a371-045fbf4c0de0",
   "metadata": {},
   "outputs": [],
   "source": [
    "tc_guess_3 = transit_times_3\n",
    "### get tc ranges for fit\n",
    "tc_3 = []\n",
    "for i in range(len(tc_guess_3)):\n",
    "    start = tc_guess_3[i] - 6*ttv_hour\n",
    "    end = tc_guess_3[i] + 6*ttv_hour\n",
    "    t = np.linspace(start,end, 1000)\n",
    "    tc_3.append(t)"
   ]
  },
  {
   "cell_type": "code",
   "execution_count": null,
   "id": "12308059-4405-420d-b243-b60ece182781",
   "metadata": {},
   "outputs": [],
   "source": [
    "### initialize arrays\n",
    "tc_chi = np.zeros(len(tc_3))\n",
    "tc_chi_parabola = np.zeros(len(tc_3))\n",
    "ttv = np.zeros(len(tc_3))\n",
    "ttv_p = np.zeros(len(tc_3))\n",
    "errors = []\n",
    "errors_p = []"
   ]
  },
  {
   "cell_type": "code",
   "execution_count": null,
   "id": "aa70158a-1824-4a9e-acd1-1b90c5d30c69",
   "metadata": {
    "scrolled": true
   },
   "outputs": [],
   "source": [
    "plot_chi_sq(time, flux, flux_err, tc_3, tc_guess_3, per_3, rp_3, b_3, T14_3, u1, u2)"
   ]
  },
  {
   "cell_type": "code",
   "execution_count": null,
   "id": "d7b3a701-d0bc-4136-a7b3-549ac8f568ed",
   "metadata": {},
   "outputs": [],
   "source": [
    "# Transit windows\n",
    "buffer = 1.5 * T14_3\n",
    "transit_times_3 = tc_chi\n",
    "print(transit_times_3)"
   ]
  },
  {
   "cell_type": "code",
   "execution_count": null,
   "id": "08d7e70c-987a-45b6-8343-8730b58bdd33",
   "metadata": {},
   "outputs": [],
   "source": [
    "plot_transits(transit_times_3, per_3, rp_3, b_3, T14_3, u1, u2)"
   ]
  },
  {
   "cell_type": "code",
   "execution_count": null,
   "id": "f9987516-68c8-47c6-b223-59d8c6bc4ac2",
   "metadata": {},
   "outputs": [],
   "source": [
    "### Planet params (from barros et al 2022)\n",
    "# planet d\n",
    "per_4= 3.97664\n",
    "rp_4= 0.009752\n",
    "b_4= 0.47\n",
    "T14_4= 1.99 * 0.0416667  # convert to days from hours\n"
   ]
  },
  {
   "cell_type": "code",
   "execution_count": null,
   "id": "715a4b91-8239-4655-8452-ff58c88c39b5",
   "metadata": {},
   "outputs": [],
   "source": [
    "tc_guess_4 = transit_times_4\n",
    "### get tc ranges for fit\n",
    "tc_4 = []\n",
    "for i in range(len(tc_guess_4)):\n",
    "    start = tc_guess_4[i] - ttv_hour\n",
    "    end = tc_guess_4[i] + ttv_hour\n",
    "    t = np.linspace(start,end, 1000)\n",
    "    tc_4.append(t)"
   ]
  },
  {
   "cell_type": "code",
   "execution_count": null,
   "id": "2febdbdb-9351-4552-b113-a91e9868a6b1",
   "metadata": {},
   "outputs": [],
   "source": [
    "### initialize arrays\n",
    "tc_chi = np.zeros(len(tc_4))\n",
    "tc_chi_parabola = np.zeros(len(tc_4))\n",
    "ttv = np.zeros(len(tc_4))\n",
    "ttv_p = np.zeros(len(tc_4))\n",
    "errors = []\n",
    "errors_p = []"
   ]
  },
  {
   "cell_type": "code",
   "execution_count": null,
   "id": "f86dd31f-a598-4d44-b3a7-0888dbc3d1a8",
   "metadata": {},
   "outputs": [],
   "source": [
    "plot_chi_sq(time, flux, flux_err, tc_4, tc_guess_4, per_4, rp_4, b_4, T14_4, u1, u2)"
   ]
  },
  {
   "cell_type": "code",
   "execution_count": null,
   "id": "d6654758-fe56-4173-976f-ddec127ca307",
   "metadata": {},
   "outputs": [],
   "source": [
    "# Transit windows\n",
    "buffer = 1.5 * T14_4\n",
    "transit_times_4 = tc_chi\n",
    "print(transit_times_4)"
   ]
  },
  {
   "cell_type": "code",
   "execution_count": null,
   "id": "79e77d70-52ae-4d66-929e-39a6b14b88bf",
   "metadata": {},
   "outputs": [],
   "source": [
    "plot_transits(transit_times_4, per_4, rp_4, b_4, T14_4, u1, u2)"
   ]
  },
  {
   "cell_type": "code",
   "execution_count": null,
   "id": "14828fee-22a1-46a6-8e80-868527ebdb5c",
   "metadata": {},
   "outputs": [],
   "source": []
  },
  {
   "cell_type": "code",
   "execution_count": null,
   "id": "ed96cab9-b2db-4d6a-a26c-18ff7df85d95",
   "metadata": {},
   "outputs": [],
   "source": []
  }
 ],
 "metadata": {
  "kernelspec": {
   "display_name": "Python 3 (ipykernel)",
   "language": "python",
   "name": "python3"
  },
  "language_info": {
   "codemirror_mode": {
    "name": "ipython",
    "version": 3
   },
   "file_extension": ".py",
   "mimetype": "text/x-python",
   "name": "python",
   "nbconvert_exporter": "python",
   "pygments_lexer": "ipython3",
   "version": "3.12.7"
  }
 },
 "nbformat": 4,
 "nbformat_minor": 5
}
