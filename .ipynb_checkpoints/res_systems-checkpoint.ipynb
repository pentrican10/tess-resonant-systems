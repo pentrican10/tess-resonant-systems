{
 "cells": [
  {
   "cell_type": "markdown",
   "id": "bac6e2b7-c09c-4de2-b771-67182c765e66",
   "metadata": {},
   "source": [
    "# TESS Systems in Resonance\n",
    "Finding systems within 1% of resonance "
   ]
  },
  {
   "cell_type": "code",
   "execution_count": 79,
   "id": "72502f86-80b4-48f7-8fb6-86f8f2e9a0f3",
   "metadata": {},
   "outputs": [],
   "source": [
    "import numpy as np\n",
    "import csv\n",
    "import pandas as pd\n",
    "import matplotlib.pyplot as plt\n",
    "from astropy import constants as const\n"
   ]
  },
  {
   "cell_type": "code",
   "execution_count": 52,
   "id": "87255dda-3ed9-40dd-9525-fb80c5de0eb9",
   "metadata": {},
   "outputs": [],
   "source": [
    "def is_near_mmr(P1, P2, p, tolerance=0.01):\n",
    "    '''\n",
    "    args: \n",
    "        P1: period of inner planet \n",
    "        P2: period of outer planet\n",
    "        p: order of resonance (p=1 for 2:1 resonance, p=2 for 3:2 resonance,etc)\n",
    "        tolerance: target distance from resonance \n",
    "    returns:\n",
    "        True/False: whether the period ratio falls within tolerance for near resonance \n",
    "    '''\n",
    "    delta = (p/(p+1))*(P2/P1) - 1\n",
    "    # print(delta)\n",
    "    return abs(delta) <= tolerance\n",
    "    "
   ]
  },
  {
   "cell_type": "code",
   "execution_count": 53,
   "id": "8c92ada6-418b-4c46-b2a7-e3fccd619cdb",
   "metadata": {},
   "outputs": [
    {
     "name": "stdout",
     "output_type": "stream",
     "text": [
      "True\n"
     ]
    }
   ],
   "source": [
    "P1=7.922\n",
    "P2 = 11.8993\n",
    "p=2\n",
    "print(is_near_mmr(P1,P2,p))"
   ]
  },
  {
   "cell_type": "code",
   "execution_count": 54,
   "id": "2cde738a-b8e8-4ff6-a33c-a4f94da5b630",
   "metadata": {},
   "outputs": [],
   "source": [
    "### searching for 2:1, 3:2, 4:3\n",
    "p_vals = [1, 2, 3]\n"
   ]
  },
  {
   "cell_type": "markdown",
   "id": "6e264365-4a12-42f1-8690-92e5f53a7fdd",
   "metadata": {
    "jp-MarkdownHeadingCollapsed": true
   },
   "source": [
    "## from NASA exoplanet archive "
   ]
  },
  {
   "cell_type": "code",
   "execution_count": 55,
   "id": "80310697-ecff-4a80-9143-a31c54d67f3c",
   "metadata": {},
   "outputs": [
    {
     "name": "stdout",
     "output_type": "stream",
     "text": [
      "      pl_name hostname  default_flag  sy_snum  sy_pnum discoverymethod  \\\n",
      "3    AU Mic b   AU Mic             1        1        3         Transit   \n",
      "9    AU Mic c   AU Mic             1        1        3         Transit   \n",
      "16   GJ 143 b   GJ 143             1        1        2         Transit   \n",
      "17  GJ 3473 b  GJ 3473             1        2        2         Transit   \n",
      "18   GJ 357 b   GJ 357             1        1        3         Transit   \n",
      "\n",
      "    disc_year                                 disc_facility  \\\n",
      "3        2020  Transiting Exoplanet Survey Satellite (TESS)   \n",
      "9        2021  Transiting Exoplanet Survey Satellite (TESS)   \n",
      "16       2019  Transiting Exoplanet Survey Satellite (TESS)   \n",
      "17       2020  Transiting Exoplanet Survey Satellite (TESS)   \n",
      "18       2019  Transiting Exoplanet Survey Satellite (TESS)   \n",
      "\n",
      "                soltype  pl_controv_flag  ... sy_vmagerr2   sy_kmag  \\\n",
      "3   Published Confirmed                0  ...      -0.100  4.529000   \n",
      "9   Published Confirmed                0  ...      -0.100  4.529000   \n",
      "16  Published Confirmed                0  ...      -0.030  5.375000   \n",
      "17  Published Confirmed                0  ...      -0.027  8.829001   \n",
      "18  Published Confirmed                0  ...      -0.100  6.475000   \n",
      "\n",
      "    sy_kmagerr1  sy_kmagerr2  sy_gaiamag  sy_gaiamagerr1  sy_gaiamagerr2  \\\n",
      "3         0.020       -0.020     7.84038        0.000731       -0.000731   \n",
      "9         0.020       -0.020     7.84038        0.000731       -0.000731   \n",
      "16        0.024       -0.024     7.67906        0.000260       -0.000260   \n",
      "17        0.024       -0.024    12.46500        0.000343       -0.000343   \n",
      "18        0.017       -0.017     9.88036        0.001440       -0.001440   \n",
      "\n",
      "     rowupdate  pl_pubdate  releasedate  \n",
      "3   2024-09-28     2023-12   2024-09-28  \n",
      "9   2024-09-28     2023-12   2024-09-28  \n",
      "16  2019-04-22     2019-04   2019-04-25  \n",
      "17  2020-10-16     2020-10   2020-10-22  \n",
      "18  2023-08-22     2023-03   2023-08-22  \n",
      "\n",
      "[5 rows x 92 columns]\n"
     ]
    }
   ],
   "source": [
    "### data from NASA exoplanet archive, number planets>1, TESS discovery, confirmed published \n",
    "file_name = 'PS_2025.07.03_10.09.50.csv'\n",
    "# Read the CSV file while ignoring lines starting with '#'\n",
    "df = pd.read_csv(file_name, comment=\"#\")\n",
    "\n",
    "# Show the first few rows of the DataFrame\n",
    "df_clean = df[df['default_flag'] == 1]\n",
    "print(df_clean.head())\n",
    "# print(df_clean['pl_orbper'])"
   ]
  },
  {
   "cell_type": "code",
   "execution_count": 56,
   "id": "e7b7545a-3faf-4781-adbc-7e3e44d93ac9",
   "metadata": {},
   "outputs": [],
   "source": [
    "results = []\n",
    "\n",
    "for host, group in df_clean.groupby('hostname'):\n",
    "    planets = group.sort_values('pl_orbper')  \n",
    "    periods = planets['pl_orbper'].values\n",
    "    names = planets['pl_name'].values\n",
    "    \n",
    "    for i in range(len(periods)-1):\n",
    "        P1, P2 = periods[i], periods[i+1]  # inner, outer\n",
    "        name1, name2 = names[i], names[i+1]\n",
    "        \n",
    "        for p in p_vals:  # test for 2:1, 3:2, 4:3\n",
    "            if is_near_mmr(P1, P2, p, tolerance=0.01):\n",
    "                results.append({\n",
    "                    'host': host,\n",
    "                    'inner_planet': name1,\n",
    "                    'outer_planet': name2,\n",
    "                    'P1': P1,\n",
    "                    'P2': P2,\n",
    "                    'resonance': f'{p+1}:{p}',\n",
    "                    'delta': (p/(p+1))*(P2/P1) - 1\n",
    "                })\n",
    "\n",
    "# print(results)"
   ]
  },
  {
   "cell_type": "code",
   "execution_count": 57,
   "id": "f374486c-6520-4468-a62e-6fa46b33155e",
   "metadata": {},
   "outputs": [
    {
     "name": "stdout",
     "output_type": "stream",
     "text": [
      "         host inner_planet outer_planet         P1         P2 resonance  \\\n",
      "0   HD 109833  HD 109833 b  HD 109833 c   9.188526  13.900148       3:2   \n",
      "1   HD 191939  HD 191939 c  HD 191939 d  28.579743  38.353037       4:3   \n",
      "2    HD 23472   HD 23472 d   HD 23472 e   3.976640   7.907540       2:1   \n",
      "3    HD 28109   HD 28109 c   HD 28109 d  56.008190  84.259990       3:2   \n",
      "4     L 98-59    L 98-59 c    L 98-59 d   3.690678   7.450724       2:1   \n",
      "5    LHS 1678   LHS 1678 c   LHS 1678 d   3.694284   4.965223       4:3   \n",
      "6    TOI-1136   TOI-1136 b   TOI-1136 c   4.172700   6.257400       3:2   \n",
      "7    TOI-1136   TOI-1136 c   TOI-1136 d   6.257400  12.519900       2:1   \n",
      "8    TOI-1136   TOI-1136 d   TOI-1136 e  12.519900  18.801000       3:2   \n",
      "9    TOI-1136   TOI-1136 f   TOI-1136 g  26.321000  39.545000       3:2   \n",
      "10   TOI-1749   TOI-1749 c   TOI-1749 d   4.492900   9.049700       2:1   \n",
      "11    TOI-216   TOI-216.02   TOI-216.01  17.160730  34.525528       2:1   \n",
      "12    TOI-270    TOI-270 c    TOI-270 d   5.660573  11.379573       2:1   \n",
      "13    TOI-663    TOI-663 c    TOI-663 d   4.695551   7.102727       3:2   \n",
      "14    TOI-700    TOI-700 e    TOI-700 d  27.809780  37.423960       4:3   \n",
      "\n",
      "       delta  \n",
      "0   0.008515  \n",
      "1   0.006474  \n",
      "2  -0.005751  \n",
      "3   0.002948  \n",
      "4   0.009398  \n",
      "5   0.008021  \n",
      "6  -0.000264  \n",
      "7   0.000408  \n",
      "8   0.001126  \n",
      "9   0.001608  \n",
      "10  0.007111  \n",
      "11  0.005946  \n",
      "12  0.005161  \n",
      "13  0.008434  \n",
      "14  0.009284  \n"
     ]
    }
   ],
   "source": [
    "resonant_df = pd.DataFrame(results)\n",
    "print(resonant_df)"
   ]
  },
  {
   "cell_type": "markdown",
   "id": "457794cc-c7e7-4876-a29b-b2517140c2f7",
   "metadata": {
    "jp-MarkdownHeadingCollapsed": true
   },
   "source": [
    "## From ExoFop (ipac caltech)\n",
    "Total TOIs = 7,655"
   ]
  },
  {
   "cell_type": "code",
   "execution_count": 58,
   "id": "f32f0645-d413-40ae-a8b7-8497836d61f7",
   "metadata": {},
   "outputs": [
    {
     "name": "stdout",
     "output_type": "stream",
     "text": [
      "      TIC ID     TOI CTOI  Master priority  SG1B priority  SG2 priority  \\\n",
      "0  231663901  101.01  NaN                5              5             5   \n",
      "1  149603524  102.01  NaN                5              5             5   \n",
      "2  336732616  103.01  NaN                5              5             5   \n",
      "3  231670397  104.01  NaN                5              5             5   \n",
      "4  144065872  105.01  NaN                5              5             5   \n",
      "\n",
      "   SG3 priority  SG4 priority  SG5 priority    ESM  ...  Stellar Teff (K)  \\\n",
      "0             5             5             5   86.8  ...            5600.0   \n",
      "1             5             5             5  137.4  ...            6280.0   \n",
      "2             5             5             5   47.7  ...            6351.0   \n",
      "3             5             5             5   52.4  ...            6036.0   \n",
      "4             5             5             5  187.2  ...            5630.0   \n",
      "\n",
      "   Stellar log(g) (cm/s2)  Stellar Radius (R_Sun)  Stellar Metallicity  \\\n",
      "0                 4.48851                0.890774                  NaN   \n",
      "1                 4.32092                1.210000                 0.24   \n",
      "2                 4.22896                1.400000                  NaN   \n",
      "3                 3.93359                2.218670                  NaN   \n",
      "4                 4.37759                1.238240                  NaN   \n",
      "\n",
      "   Stellar Mass (M_Sun)                                            Sectors  \\\n",
      "0                  1.05                                            1,27,67   \n",
      "1                  1.28  1,2,3,4,6,7,8,9,10,11,12,13,27,28,29,30,31,32,...   \n",
      "2                  1.27                                                  1   \n",
      "3                  1.16                                            1,27,67   \n",
      "4                  1.03                                               1,28   \n",
      "\n",
      "                                Comments  Date TOI Alerted (by TESS Project)  \\\n",
      "0                              WASP-46 b                          2018-09-05   \n",
      "1                              WASP 62 b                          2019-05-07   \n",
      "2                               HATS-3 b                          2018-09-05   \n",
      "3                              WASP-73 b                          2018-09-05   \n",
      "4  WASP-95; epoch kept from qlp-s28-tois                          2018-09-05   \n",
      "\n",
      "   Date TOI Updated (by TESS Project)  Date Modified (by ExoFOP-TESS)  \n",
      "0                          2024-09-06                      2024-10-01  \n",
      "1                          2024-10-02                      2024-10-03  \n",
      "2                          2024-09-06                      2024-09-07  \n",
      "3                          2023-10-16                      2023-10-16  \n",
      "4                          2025-03-25                      2025-03-25  \n",
      "\n",
      "[5 rows x 46 columns]\n",
      "0        1.430370\n",
      "1        4.411938\n",
      "2        3.547854\n",
      "3        4.087296\n",
      "4        2.184667\n",
      "          ...    \n",
      "7650    46.157839\n",
      "7651     5.960554\n",
      "7652     2.623652\n",
      "7653     4.662632\n",
      "7654    20.041705\n",
      "Name: Period (days), Length: 7655, dtype: float64\n"
     ]
    }
   ],
   "source": [
    "file_name = 'exofop_tess_tois.csv'\n",
    "df = pd.read_csv(file_name, skiprows=2)\n",
    "print(df.head())\n",
    "print(df['Period (days)'])"
   ]
  },
  {
   "cell_type": "code",
   "execution_count": 59,
   "id": "78a557cd-474b-4b12-b38d-0f03498839ba",
   "metadata": {},
   "outputs": [],
   "source": [
    "results = []\n",
    "\n",
    "for host, group in df.groupby('TIC ID'):\n",
    "    planets = group.sort_values('Period (days)')  \n",
    "    periods = planets['Period (days)'].values\n",
    "    names = planets['TOI'].values\n",
    "    \n",
    "    for i in range(len(periods)-1):\n",
    "        P1, P2 = periods[i], periods[i+1]  # inner, outer\n",
    "        name1, name2 = names[i], names[i+1]\n",
    "        \n",
    "        for p in p_vals:  # test for 2:1, 3:2, 4:3\n",
    "            if is_near_mmr(P1, P2, p, tolerance=0.01):\n",
    "                results.append({\n",
    "                    'TIC ID': host,\n",
    "                    'inner_planet_TOI': name1,\n",
    "                    'outer_planet_TOI': name2,\n",
    "                    'P1': P1,\n",
    "                    'P2': P2,\n",
    "                    'resonance': f'{p+1}:{p}',\n",
    "                    'delta': (p/(p+1))*(P2/P1) - 1\n",
    "                })\n"
   ]
  },
  {
   "cell_type": "code",
   "execution_count": 60,
   "id": "217051de-8d80-4601-94ad-b29f4a9f8292",
   "metadata": {},
   "outputs": [
    {
     "name": "stdout",
     "output_type": "stream",
     "text": [
      "       TIC ID  inner_planet_TOI  outer_planet_TOI         P1         P2  \\\n",
      "0    29781292            282.01            282.03  56.004506  84.260764   \n",
      "1    54962195            663.02            663.03   4.699147   7.102475   \n",
      "2    55652896            216.02            216.01  17.389045  34.505932   \n",
      "3    64837857           6650.01           6650.02  20.329213  30.505563   \n",
      "4    77156829            696.02            696.03   3.694260   4.965207   \n",
      "5   120826158           4495.02           4495.01   2.569373   5.183004   \n",
      "6   142276270           1136.02           1136.01   6.258606  12.518728   \n",
      "7   142276270           1136.01           1136.04  12.518728  18.795547   \n",
      "8   143022742           4323.01           4323.02  14.676266  21.969258   \n",
      "9   150428135            700.04            700.02  27.809690  37.423684   \n",
      "10  153065527            406.02            406.01   6.614911  13.175729   \n",
      "11  233602827           1749.01           1749.02   4.489137   9.044704   \n",
      "12  259377017            270.01            270.02   5.660569  11.379565   \n",
      "13  269701147           1339.02           1339.03  28.580457  38.351349   \n",
      "14  307210830            175.01            175.02   3.690679   7.450730   \n",
      "15  318022259           1730.01           1730.03   6.226231  12.573957   \n",
      "16  360630575           1097.01           1097.02   9.188506  13.902839   \n",
      "17  364186197           1408.02           1408.01   2.222209   4.424712   \n",
      "18  374180079           5520.01           5520.02  14.698080  19.483483   \n",
      "19  384984325           6109.02           6109.01   5.695222   8.538663   \n",
      "20  425997655            174.04            174.05   3.976683   7.907622   \n",
      "21  441738827           2084.01           2084.02   6.078403   8.149028   \n",
      "22  441798995           2269.01           2269.02   1.420604   2.841141   \n",
      "\n",
      "   resonance     delta  \n",
      "0        3:2  0.003024  \n",
      "1        3:2  0.007626  \n",
      "2        2:1 -0.007826  \n",
      "3        3:2  0.000385  \n",
      "4        4:3  0.008025  \n",
      "5        2:1  0.008613  \n",
      "6        2:1  0.000121  \n",
      "7        3:2  0.000930  \n",
      "8        3:2 -0.002051  \n",
      "9        4:3  0.009280  \n",
      "10       2:1 -0.004089  \n",
      "11       2:1  0.007399  \n",
      "12       2:1  0.005161  \n",
      "13       4:3  0.006405  \n",
      "14       2:1  0.009398  \n",
      "15       2:1  0.009757  \n",
      "16       3:2  0.008712  \n",
      "17       2:1 -0.004434  \n",
      "18       4:3 -0.005815  \n",
      "19       3:2 -0.000488  \n",
      "20       2:1 -0.005752  \n",
      "21       4:3  0.005490  \n",
      "22       2:1 -0.000023  \n"
     ]
    }
   ],
   "source": [
    "resonant_df_exofop = pd.DataFrame(results)\n",
    "print(resonant_df_exofop)"
   ]
  },
  {
   "cell_type": "code",
   "execution_count": null,
   "id": "9e9b3e78-55b1-4f5d-8a2b-32d54fa953d7",
   "metadata": {},
   "outputs": [],
   "source": []
  },
  {
   "cell_type": "markdown",
   "id": "29410234-d99c-4765-b4b7-bf0f5b7a519e",
   "metadata": {},
   "source": [
    "## From exo.mast TOI catalog"
   ]
  },
  {
   "cell_type": "code",
   "execution_count": 98,
   "id": "272db8a6-dd6c-4404-b7f7-cc5e474177ca",
   "metadata": {},
   "outputs": [],
   "source": [
    "file_name = 'search.csv'\n",
    "df = pd.read_csv(file_name)\n",
    "\n",
    "# print(df.head())\n",
    "# print(df['Period'])"
   ]
  },
  {
   "cell_type": "code",
   "execution_count": 99,
   "id": "017fa8b4-3407-4111-8954-c483289f2435",
   "metadata": {},
   "outputs": [],
   "source": [
    "results_mast = []\n",
    "# Define a function to modify the planet name\n",
    "def modify_planet_name(name):\n",
    "    return name[:-3]  # Remove the last three characters\n",
    "\n",
    "# Apply the modification function to create a new column\n",
    "df['Modified_Planet_Name'] = df['Planet_Name'].apply(modify_planet_name)\n",
    "\n",
    "for host, group in df.groupby('Modified_Planet_Name'):\n",
    "    planets = group.sort_values('Period')  \n",
    "    periods = planets['Period'].values\n",
    "    names = planets['Planet_Name'].values\n",
    "    radii = planets['Rp'].values\n",
    "    \n",
    "    for i in range(len(periods)-1):\n",
    "        P1, P2 = periods[i], periods[i+1]  # inner, outer\n",
    "        Rp1, Rp2 = radii[i], radii[i+1] # [Mj]\n",
    "        name1, name2 = names[i], names[i+1]\n",
    "        \n",
    "        for p in p_vals:  # test for 2:1, 3:2, 4:3\n",
    "            if is_near_mmr(P1, P2, p, tolerance=0.01):\n",
    "                results_mast.append({\n",
    "                    'TOI ID': host,\n",
    "                    'TOI_1': name1,\n",
    "                    'TOI_2': name2,\n",
    "                    'P1': P1,\n",
    "                    'P2': P2,\n",
    "                    'Rp1': Rp1,\n",
    "                    'Rp2': Rp2,\n",
    "                    'resonance': f'{p+1}:{p}',\n",
    "                    'delta': (p/(p+1))*(P2/P1) - 1\n",
    "                })\n"
   ]
  },
  {
   "cell_type": "code",
   "execution_count": 100,
   "id": "4f842bb0-d012-42e8-a14e-4177246512e7",
   "metadata": {},
   "outputs": [],
   "source": [
    "resonant_df_mast = pd.DataFrame(results_mast)\n",
    "\n",
    "### sot by TOI\n",
    "resonant_df_mast['TOI_num'] = resonant_df_mast['TOI ID'].str.extract(r'(\\d+)').astype(int)\n",
    "resonant_df_mast = resonant_df_mast.sort_values(by='TOI_num').drop(columns='TOI_num')\n",
    "\n",
    "### save as csv\n",
    "resonant_df_mast.to_csv('resonant_df_mast.csv', index=False)\n",
    "\n",
    "# print(resonant_df_mast)"
   ]
  },
  {
   "cell_type": "code",
   "execution_count": 102,
   "id": "7b37f070-8562-4c2b-90be-d25e406e6de4",
   "metadata": {},
   "outputs": [
    {
     "data": {
      "image/png": "[encoded data removed]",
      "text/plain": [
       "<Figure size 640x480 with 1 Axes>"
      ]
     },
     "metadata": {},
     "output_type": "display_data"
    }
   ],
   "source": [
    "# Iterate through each row and plot the planets with a line connecting them\n",
    "resonant_df_mast['resonance'] = resonant_df_mast['resonance'].astype(str)\n",
    "\n",
    "# Create a color map for resonance types\n",
    "unique_resonances = resonant_df_mast['resonance'].unique()\n",
    "colors = plt.cm.tab10.colors  # or use plt.cm.Set3, plt.cm.viridis, etc.\n",
    "\n",
    "# Map resonance to color\n",
    "resonance_color_map = {res: colors[i % len(colors)] for i, res in enumerate(unique_resonances)}\n",
    "\n",
    "from astropy.constants import R_jup, R_earth\n",
    "jrad_to_erad = R_jup / R_earth\n",
    "\n",
    "for _, row in resonant_df_mast.iterrows():\n",
    "    periods = [row['P1'], row['P2']] # [days]\n",
    "    radii = [row['Rp1'], row['Rp2']] # [jupiter radius]\n",
    "    res = row['resonance']\n",
    "    color = resonance_color_map[res]\n",
    "    \n",
    "    \n",
    "    # Scatter points for each planet\n",
    "    plt.scatter(periods, radii*jrad_to_erad, color=color, s=60, label=row['TOI ID'])\n",
    "    \n",
    "    # Connect the planets with a line\n",
    "    plt.plot(periods, radii*jrad_to_erad, color=color, linestyle='-', alpha=0.5)\n",
    "\n",
    "# Plot formatting\n",
    "plt.xlabel('Orbital Period (days)')\n",
    "plt.ylabel('Radius (Earth Radii)')\n",
    "plt.title('TESS Near Resonant Systems: Period vs Radius')\n",
    "plt.grid(True)\n",
    "plt.xscale('log')\n",
    "plt.yscale('log')\n",
    "\n",
    "# Desired order for resonance in legend\n",
    "ordered_resonances = ['2:1', '3:2', '4:3']\n",
    "\n",
    "# Create handles in the specified order\n",
    "handles = [\n",
    "    plt.Line2D([], [], color=resonance_color_map[res], marker='o', linestyle='None', label=res)\n",
    "    for res in ordered_resonances if res in resonance_color_map\n",
    "]\n",
    "\n",
    "plt.legend(handles=handles, title=\"Resonance\", fontsize=8, loc='best')\n",
    "plt.tight_layout()\n",
    "plt.show()"
   ]
  },
  {
   "cell_type": "code",
   "execution_count": 64,
   "id": "710dc312-ec6d-4f3f-b3be-f811a5b5e65a",
   "metadata": {},
   "outputs": [],
   "source": [
    "### crossmatch\n",
    "def normalize_toi(toi_str):\n",
    "    # Extracts the number from formats like \"TOI 1136.01\" -> \"1136.01\"\n",
    "    return toi_str.strip().replace('TOI ', '')\n",
    "\n",
    "# Create matching keys for resonant_df_exofop\n",
    "resonant_df_exofop['inner_key'] = resonant_df_exofop['inner_planet_TOI'].astype(str)\n",
    "resonant_df_exofop['outer_key'] = resonant_df_exofop['outer_planet_TOI'].astype(str)\n",
    "\n",
    "# Create matching keys for resonant_df_mast\n",
    "resonant_df_mast['inner_key'] = resonant_df_mast['inner_planet_TOI'].apply(normalize_toi)\n",
    "resonant_df_mast['outer_key'] = resonant_df_mast['outer_planet_TOI'].apply(normalize_toi)"
   ]
  },
  {
   "cell_type": "code",
   "execution_count": 65,
   "id": "40603391-ea24-45c8-92eb-43f37da7af8b",
   "metadata": {},
   "outputs": [
    {
     "name": "stdout",
     "output_type": "stream",
     "text": [
      "    inner_planet_TOI_exofop  outer_planet_TOI_exofop resonance_exofop  \\\n",
      "0                    282.01                   282.03              3:2   \n",
      "1                    663.02                   663.03              3:2   \n",
      "2                    216.02                   216.01              2:1   \n",
      "3                   6650.01                  6650.02              3:2   \n",
      "4                    696.02                   696.03              4:3   \n",
      "5                   4495.02                  4495.01              2:1   \n",
      "6                   1136.02                  1136.01              2:1   \n",
      "7                   1136.01                  1136.04              3:2   \n",
      "8                   4323.01                  4323.02              3:2   \n",
      "9                    700.04                   700.02              4:3   \n",
      "10                   406.02                   406.01              2:1   \n",
      "11                  1749.01                  1749.02              2:1   \n",
      "12                   270.01                   270.02              2:1   \n",
      "13                  1339.02                  1339.03              4:3   \n",
      "14                   175.01                   175.02              2:1   \n",
      "15                  1730.01                  1730.03              2:1   \n",
      "16                  1097.01                  1097.02              3:2   \n",
      "17                  1408.02                  1408.01              2:1   \n",
      "18                  5520.01                  5520.02              4:3   \n",
      "19                  6109.02                  6109.01              3:2   \n",
      "20                   174.04                   174.05              2:1   \n",
      "21                  2084.01                  2084.02              4:3   \n",
      "22                  2269.01                  2269.02              2:1   \n",
      "\n",
      "   resonance_mast  \n",
      "0             3:2  \n",
      "1             3:2  \n",
      "2             2:1  \n",
      "3             3:2  \n",
      "4             4:3  \n",
      "5             2:1  \n",
      "6             2:1  \n",
      "7             3:2  \n",
      "8             3:2  \n",
      "9             4:3  \n",
      "10            2:1  \n",
      "11            2:1  \n",
      "12            2:1  \n",
      "13            4:3  \n",
      "14            2:1  \n",
      "15            2:1  \n",
      "16            3:2  \n",
      "17            2:1  \n",
      "18            4:3  \n",
      "19            3:2  \n",
      "20            2:1  \n",
      "21            4:3  \n",
      "22            2:1  \n"
     ]
    }
   ],
   "source": [
    "# Perform the merge on normalized TOI keys\n",
    "crossmatched_df = pd.merge(\n",
    "    resonant_df_exofop,\n",
    "    resonant_df_mast,\n",
    "    on=['inner_key', 'outer_key'],\n",
    "    suffixes=('_exofop', '_mast')\n",
    ")\n",
    "\n",
    "print(crossmatched_df[['inner_planet_TOI_exofop', 'outer_planet_TOI_exofop', 'resonance_exofop', 'resonance_mast']])\n"
   ]
  },
  {
   "cell_type": "code",
   "execution_count": null,
   "id": "8c032aeb-8a0b-4543-8247-c4abce6fd58e",
   "metadata": {},
   "outputs": [],
   "source": []
  }
 ],
 "metadata": {
  "kernelspec": {
   "display_name": "Python 3 (ipykernel)",
   "language": "python",
   "name": "python3"
  },
  "language_info": {
   "codemirror_mode": {
    "name": "ipython",
    "version": 3
   },
   "file_extension": ".py",
   "mimetype": "text/x-python",
   "name": "python",
   "nbconvert_exporter": "python",
   "pygments_lexer": "ipython3",
   "version": "3.12.7"
  }
 },
 "nbformat": 4,
 "nbformat_minor": 5
}
